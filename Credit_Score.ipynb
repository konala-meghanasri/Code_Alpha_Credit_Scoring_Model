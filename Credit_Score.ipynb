{
  "nbformat": 4,
  "nbformat_minor": 0,
  "metadata": {
    "colab": {
      "provenance": []
    },
    "kernelspec": {
      "name": "python3",
      "display_name": "Python 3"
    },
    "language_info": {
      "name": "python"
    }
  },
  "cells": [
    {
      "cell_type": "code",
      "execution_count": null,
      "metadata": {
        "id": "HFzvqiXV-nDM"
      },
      "outputs": [],
      "source": [
        "from google.colab import drive  # Mount Google Drive if using Colab\n",
        "\n",
        "# Mount Google Drive (optional)\n",
        "drive.mount('/content/drive')  # Replace '/content/drive' with your desired mount point\n",
        "\n",
        "import pandas as pd\n",
        "import numpy as np\n",
        "import matplotlib.pyplot as plt\n",
        "import seaborn as sns\n",
        "from sklearn.preprocessing import LabelEncoder, StandardScaler\n",
        "from sklearn.model_selection import train_test_split\n",
        "from sklearn.linear_model import LogisticRegression\n",
        "from sklearn.neighbors import KNeighborsClassifier\n",
        "from sklearn.ensemble import RandomForestClassifier\n",
        "from sklearn.metrics import accuracy_score, classification_report, confusion_matrix\n",
        "\n",
        "# Load dataset (replace with your actual path)\n",
        "DATA_PATH = '/content/drive/MyDrive/dataset/Training.csv'  # Modify path as needed\n",
        "data = pd.read_csv(DATA_PATH)\n",
        "\n",
        "# Print data information\n",
        "print(\"**Data Exploration**\")\n",
        "print(f\"\\nHead:\\n{data.head()}\")\n",
        "print(f\"\\nInfo:\\n{data.info()}\")\n",
        "print(f\"\\nTail:\\n{data.tail()}\")\n",
        "print(f\"\\nDescribe:\\n{data.describe()}\")\n",
        "\n",
        "# Preprocessing\n",
        "# Handling missing values\n",
        "data.fillna(data.mean(), inplace=True)  # Fill missing numerical values with mean\n",
        "\n",
        "# Encoding categorical features\n",
        "encoder = LabelEncoder()\n",
        "categorical_columns = ['Language', 'Sex', 'Marital', 'Field', 'Region', 'Changed_phone_number']\n",
        "for col in categorical_columns:\n",
        "    data[col] = encoder.fit_transform(data[col])\n",
        "\n",
        "# Splitting into features and target\n",
        "X = data.drop(columns=['Has_Credit'])\n",
        "y = data['Has_Credit']\n",
        "\n",
        "# Scaling numerical features\n",
        "scaler = StandardScaler()\n",
        "X_scaled = scaler.fit_transform(X)\n",
        "\n",
        "# Splitting into train and test sets\n",
        "X_train, X_test, y_train, y_test = train_test_split(X_scaled, y, test_size=0.2, random_state=24)\n",
        "\n",
        "# Define models dictionary\n",
        "models = {\n",
        "    \"Logistic Regression\": LogisticRegression(),\n",
        "    \"KNN\": KNeighborsClassifier(),\n",
        "    \"Random Forest\": RandomForestClassifier(random_state=18)\n",
        "}\n",
        "\n",
        "# Dictionary to store model accuracies\n",
        "model_accuracies = {}\n",
        "\n",
        "# Training and evaluating models\n",
        "for model_name, model in models.items():\n",
        "    model.fit(X_train, y_train)\n",
        "    preds = model.predict(X_test)\n",
        "\n",
        "    # Calculate accuracy\n",
        "    accuracy = accuracy_score(y_test, preds) * 100\n",
        "    model_accuracies[model_name] = accuracy\n",
        "\n",
        "    print(f\"\\n**{model_name} Results:**\")\n",
        "    print(f\"Accuracy: {accuracy:.2f}%\")\n",
        "\n",
        "    # Calculate and display additional metrics\n",
        "    print(\"Classification Report:\\n\", classification_report(y_test, preds))\n",
        "    print(\"Confusion Matrix:\\n\", confusion_matrix(y_test, preds))\n",
        "\n",
        "    # Confusion Matrix visualization (optional)\n",
        "    cf_matrix = confusion_matrix(y_test, preds)\n",
        "    plt.figure(figsize=(8, 6))\n",
        "    sns.heatmap(cf_matrix, annot=True, cmap='Blues', fmt='d')\n",
        "    plt.title(f\"{model_name} Confusion Matrix\")\n",
        "    plt.xlabel('Predicted Labels')\n",
        "    plt.ylabel('True Labels')\n",
        "    plt.show()\n",
        "\n",
        "# Plotting bar graph to compare model accuracies\n",
        "plt.figure(figsize=(10, 6))\n",
        "plt.bar(model_accuracies.keys(), model_accuracies.values(), color=['skyblue', 'salmon', 'lightgreen'])\n",
        "plt.title('Model Accuracies')\n",
        "plt.xlabel('Models')\n",
        "plt.ylabel('Accuracy (%)')\n",
        "plt.ylim(0, 100)\n",
        "plt.xticks(rotation=45)\n",
        "plt.show()\n",
        "\n",
        "# Train final models on entire data\n",
        "final_models = {}\n",
        "for model_name in models.keys():\n",
        "    final_models[model_name] = models[model_name].fit(X_scaled, y)\n",
        "\n",
        "# Function to predict creditworthiness\n",
        "def predict_creditworthiness(features):\n",
        "    features_list = features.split(\",\")\n",
        "    input_data = np.zeros(len(data.columns[:-1]))\n",
        "    for feature in features_list:\n",
        "        if feature in data.columns[:-1]:\n",
        "            index = data.columns[:-1].get_loc(feature)\n",
        "            input_data[index] = 1\n",
        "    input_data_scaled = scaler.transform([input_data])\n",
        "\n",
        "    predictions = {}\n",
        "    for model_name, model in final_models.items():\n",
        "        prediction = model.predict(input_data_scaled)\n",
        "        predictions[model_name] = \"Creditworthy\" if prediction[0] == 1 else \"Not Creditworthy\"\n",
        "    return predictions\n",
        "\n",
        "# Function to test the credit scoring model on custom input features\n",
        "def test_model(input_features):\n",
        "    features_list = input_features.split(\",\")\n",
        "    input_data = np.zeros(len(data.columns[:-1]))\n",
        "    for feature in features_list:\n",
        "        if feature in data.columns[:-1]:\n",
        "            index = data.columns[:-1].get_loc(feature)\n",
        "            input_data[index] = 1\n",
        "    input_data_scaled = scaler.transform([input_data])\n",
        "\n",
        "    predictions = {}\n",
        "    for model_name, model in final_models.items():\n",
        "        prediction = model.predict(input_data_scaled)\n",
        "        predictions[model_name] = \"Creditworthy\" if prediction[0] == 1 else \"Not Creditworthy\"\n",
        "    return predictions\n",
        "\n",
        "# Example usage: testing the model on custom input features\n",
        "input_features = \"Age,Language,Sex,Marital,Field,Month_of_birth,Day_of_birth,Region,Number_of_credits,Linked_cards,INPS_mln_sum,INPS_yes_no,Score_level,Score_class,Score_point,Changed_phone_number\"\n",
        "test_predictions = test_model(input_features)\n",
        "print(\"Predictions for custom input features:\")\n",
        "for model_name, prediction in test_predictions.items():\n",
        "    print(f\"{model_name}: {prediction}\")\n"
      ]
    },
    {
      "cell_type": "code",
      "source": [
        "from google.colab import drive\n",
        "\n",
        "# Mount Google Drive (optional)\n",
        "drive.mount('/content/drive')"
      ],
      "metadata": {
        "colab": {
          "base_uri": "https://localhost:8080/"
        },
        "id": "52kUjYJJ-2PX",
        "outputId": "b15c1003-ea84-4c88-a83a-148f62e28677"
      },
      "execution_count": 1,
      "outputs": [
        {
          "output_type": "stream",
          "name": "stdout",
          "text": [
            "Mounted at /content/drive\n"
          ]
        }
      ]
    },
    {
      "cell_type": "code",
      "source": [
        "import pandas as pd\n",
        "import numpy as np\n",
        "import matplotlib.pyplot as plt\n",
        "import seaborn as sns\n",
        "from sklearn.preprocessing import LabelEncoder, StandardScaler\n",
        "from sklearn.model_selection import train_test_split\n",
        "from sklearn.linear_model import LogisticRegression\n",
        "from sklearn.neighbors import KNeighborsClassifier\n",
        "from sklearn.ensemble import RandomForestClassifier\n",
        "from sklearn.metrics import accuracy_score, classification_report, confusion_matrix"
      ],
      "metadata": {
        "id": "yVrpfFgu-18P"
      },
      "execution_count": 2,
      "outputs": []
    },
    {
      "cell_type": "code",
      "source": [
        "\n",
        "# Load dataset (replace with your actual path)\n",
        "DATA_PATH = '/content/drive/MyDrive/data/data_test.csv'  # Modify path as needed\n",
        "data = pd.read_csv(DATA_PATH)"
      ],
      "metadata": {
        "id": "hCg9053__I_w"
      },
      "execution_count": 3,
      "outputs": []
    },
    {
      "cell_type": "code",
      "source": [
        "# Print data information\n",
        "print(\"**Data Exploration**\")\n",
        "print(f\"\\nHead:\\n{data.head()}\")\n",
        "print(f\"\\nInfo:\\n{data.info()}\")\n",
        "print(f\"\\nTail:\\n{data.tail()}\")\n",
        "print(f\"\\nDescribe:\\n{data.describe()}\")\n"
      ],
      "metadata": {
        "colab": {
          "base_uri": "https://localhost:8080/"
        },
        "id": "HURw1h3L_39Q",
        "outputId": "c810f3f7-9fec-45d6-98f9-1874f21ce87e"
      },
      "execution_count": 4,
      "outputs": [
        {
          "output_type": "stream",
          "name": "stdout",
          "text": [
            "**Data Exploration**\n",
            "\n",
            "Head:\n",
            "   label  Age  Language  Sex  Marital  Has_Credit  Field  Month_of_birth  \\\n",
            "0      0   40         1    2        4           1      0               3   \n",
            "1      0   36         2    2        4           1      0               5   \n",
            "2      0   31         1    2        4           1      0               7   \n",
            "3      0   29         1    2        4           1      0               1   \n",
            "4      0   38         1    2        4           1      0              10   \n",
            "\n",
            "   Day_of_birth  Region  Number_of_credits  Linked_cards  INPS_mln_sum  \\\n",
            "0             1      12                  2             1           2.4   \n",
            "1             1      13                  1             2           0.0   \n",
            "2             1      13                  1             1           0.3   \n",
            "3             1      13                  1             1           0.9   \n",
            "4             1      13                  1             2           4.3   \n",
            "\n",
            "   INPS_yes_no  Score_level  Score_class Score_point  Changed_phone_number  \n",
            "0            1            0            0           -                     1  \n",
            "1            1            0            0           -                     1  \n",
            "2            0            0            0           -                     2  \n",
            "3            1            0            0           -                     1  \n",
            "4            0            4            2         318                     1  \n",
            "<class 'pandas.core.frame.DataFrame'>\n",
            "RangeIndex: 48 entries, 0 to 47\n",
            "Data columns (total 18 columns):\n",
            " #   Column                Non-Null Count  Dtype  \n",
            "---  ------                --------------  -----  \n",
            " 0   label                 48 non-null     int64  \n",
            " 1   Age                   48 non-null     int64  \n",
            " 2   Language              48 non-null     int64  \n",
            " 3   Sex                   48 non-null     int64  \n",
            " 4   Marital               48 non-null     int64  \n",
            " 5   Has_Credit            48 non-null     int64  \n",
            " 6   Field                 48 non-null     int64  \n",
            " 7   Month_of_birth        48 non-null     int64  \n",
            " 8   Day_of_birth          48 non-null     int64  \n",
            " 9   Region                48 non-null     int64  \n",
            " 10  Number_of_credits     48 non-null     int64  \n",
            " 11  Linked_cards          48 non-null     int64  \n",
            " 12  INPS_mln_sum          48 non-null     float64\n",
            " 13  INPS_yes_no           48 non-null     int64  \n",
            " 14  Score_level           48 non-null     int64  \n",
            " 15  Score_class           48 non-null     int64  \n",
            " 16  Score_point           48 non-null     object \n",
            " 17  Changed_phone_number  48 non-null     int64  \n",
            "dtypes: float64(1), int64(16), object(1)\n",
            "memory usage: 6.9+ KB\n",
            "\n",
            "Info:\n",
            "None\n",
            "\n",
            "Tail:\n",
            "    label  Age  Language  Sex  Marital  Has_Credit  Field  Month_of_birth  \\\n",
            "43      1   66         1    1        5           1     10               6   \n",
            "44      1   33         1    1        7           1     10               7   \n",
            "45      1   42         1    2        4           1      7               2   \n",
            "46      1   36         1    2        4           1     16              12   \n",
            "47      1   26         2    2        6           1      1               2   \n",
            "\n",
            "    Day_of_birth  Region  Number_of_credits  Linked_cards  INPS_mln_sum  \\\n",
            "43             2      12                  1             1           0.8   \n",
            "44             1      13                  1             2           1.2   \n",
            "45             1      13                  1             1           2.1   \n",
            "46             2      11                  1             1           0.5   \n",
            "47             1      13                  1             1           1.1   \n",
            "\n",
            "    INPS_yes_no  Score_level  Score_class Score_point  Changed_phone_number  \n",
            "43            1            0            0           0                     0  \n",
            "44            1            0            0           0                     0  \n",
            "45            1            0            0           0                     0  \n",
            "46            1            0            0           0                     0  \n",
            "47            1            0            0           0                     0  \n",
            "\n",
            "Describe:\n",
            "           label        Age   Language        Sex    Marital  Has_Credit  \\\n",
            "count  48.000000  48.000000  48.000000  48.000000  48.000000        48.0   \n",
            "mean    0.458333  38.229167   1.125000   1.666667   4.604167         1.0   \n",
            "std     0.503534  11.143626   0.334219   0.476393   1.215845         0.0   \n",
            "min     0.000000  22.000000   1.000000   1.000000   1.000000         1.0   \n",
            "25%     0.000000  30.500000   1.000000   1.000000   4.000000         1.0   \n",
            "50%     0.000000  35.000000   1.000000   2.000000   4.000000         1.0   \n",
            "75%     1.000000  44.750000   1.000000   2.000000   5.250000         1.0   \n",
            "max     1.000000  69.000000   2.000000   2.000000   7.000000         1.0   \n",
            "\n",
            "           Field  Month_of_birth  Day_of_birth    Region  Number_of_credits  \\\n",
            "count  48.000000       48.000000     48.000000  48.00000          48.000000   \n",
            "mean    4.375000        6.375000      1.250000  12.50000           1.229167   \n",
            "std     6.125027        3.342982      0.437595   0.71459           0.424744   \n",
            "min     0.000000        1.000000      1.000000  10.00000           1.000000   \n",
            "25%     0.000000        3.000000      1.000000  12.00000           1.000000   \n",
            "50%     0.000000        7.000000      1.000000  13.00000           1.000000   \n",
            "75%    10.000000        9.000000      1.250000  13.00000           1.000000   \n",
            "max    20.000000       12.000000      2.000000  13.00000           2.000000   \n",
            "\n",
            "       Linked_cards  INPS_mln_sum  INPS_yes_no  Score_level  Score_class  \\\n",
            "count     48.000000      48.00000    48.000000    48.000000    48.000000   \n",
            "mean       1.333333       2.13750     0.791667     0.562500     1.083333   \n",
            "std        0.519137       1.58673     0.410414     1.201174     2.386427   \n",
            "min        1.000000       0.00000     0.000000     0.000000     0.000000   \n",
            "25%        1.000000       0.80000     1.000000     0.000000     0.000000   \n",
            "50%        1.000000       1.85000     1.000000     0.000000     0.000000   \n",
            "75%        2.000000       3.15000     1.000000     0.000000     0.000000   \n",
            "max        3.000000       5.20000     1.000000     4.000000     8.000000   \n",
            "\n",
            "       Changed_phone_number  \n",
            "count             48.000000  \n",
            "mean               0.604167  \n",
            "std                0.573885  \n",
            "min                0.000000  \n",
            "25%                0.000000  \n",
            "50%                1.000000  \n",
            "75%                1.000000  \n",
            "max                2.000000  \n"
          ]
        }
      ]
    },
    {
      "cell_type": "code",
      "source": [
        "# Check the distribution of the target variable\n",
        "print(\"Distribution of the target variable:\")\n",
        "print(data['label'].value_counts())\n",
        "\n",
        "# Ensure there are at least two classes in the target variable\n",
        "if len(data['label'].unique()) < 2:\n",
        "    raise ValueError(\"The target variable must have samples from at least two classes.\")\n",
        "\n",
        "# Drop redundant columns if needed\n",
        "data.drop(columns=['Has_Credit'], inplace=True)  # Assuming 'Has_Credit' is redundant"
      ],
      "metadata": {
        "colab": {
          "base_uri": "https://localhost:8080/"
        },
        "id": "62zbrOid_804",
        "outputId": "a0f0404f-0506-43a8-cfb3-a4943b04d96b"
      },
      "execution_count": 10,
      "outputs": [
        {
          "output_type": "stream",
          "name": "stdout",
          "text": [
            "Distribution of the target variable:\n",
            "label\n",
            "1    22\n",
            "0     6\n",
            "Name: count, dtype: int64\n"
          ]
        }
      ]
    },
    {
      "cell_type": "code",
      "source": [
        "# Preprocessing\n",
        "# Handling missing values\n",
        "data.fillna(data.mean(), inplace=True)  # Fill missing numerical values with mean\n",
        "\n",
        "# Encoding categorical features\n",
        "encoder = LabelEncoder()\n",
        "categorical_columns = ['Language', 'Sex', 'Marital', 'Field', 'Region', 'Changed_phone_number']\n",
        "for col in categorical_columns:\n",
        "    data[col] = encoder.fit_transform(data[col])\n",
        "\n",
        "# Splitting into features and target\n",
        "X = data.drop(columns=['label'])\n",
        "y = data['label']\n",
        "\n",
        "# Scaling numerical features\n",
        "scaler = StandardScaler()\n",
        "X_scaled = scaler.fit_transform(X)\n",
        "\n",
        "# Splitting into train and test sets\n",
        "X_train, X_test, y_train, y_test = train_test_split(X_scaled, y, test_size=0.2, random_state=24)\n",
        "\n"
      ],
      "metadata": {
        "id": "FuWD86Z8ETxh"
      },
      "execution_count": 11,
      "outputs": []
    },
    {
      "cell_type": "code",
      "source": [
        "# Define models dictionary\n",
        "models = {\n",
        "    \"Logistic Regression\": LogisticRegression(),\n",
        "    \"KNN\": KNeighborsClassifier(),\n",
        "    \"Random Forest\": RandomForestClassifier(random_state=18)\n",
        "}\n"
      ],
      "metadata": {
        "id": "71Xn1OKnA0Uv"
      },
      "execution_count": 7,
      "outputs": []
    },
    {
      "cell_type": "code",
      "source": [
        "# Dictionary to store model accuracies\n",
        "model_accuracies = {}\n",
        "\n",
        "# Training and evaluating models\n",
        "for model_name, model in models.items():\n",
        "    model.fit(X_train, y_train)\n",
        "    preds = model.predict(X_test)\n",
        "\n",
        "    # Calculate accuracy\n",
        "    accuracy = accuracy_score(y_test, preds) * 100\n",
        "    model_accuracies[model_name] = accuracy\n",
        "\n",
        "    print(f\"\\n**{model_name} Results:**\")\n",
        "    print(f\"Accuracy: {accuracy:.2f}%\")\n"
      ],
      "metadata": {
        "colab": {
          "base_uri": "https://localhost:8080/"
        },
        "id": "OeDapGLzBMBD",
        "outputId": "5fb810ba-1689-4396-ffbb-2561af502259"
      },
      "execution_count": 12,
      "outputs": [
        {
          "output_type": "stream",
          "name": "stdout",
          "text": [
            "\n",
            "**Logistic Regression Results:**\n",
            "Accuracy: 100.00%\n",
            "\n",
            "**KNN Results:**\n",
            "Accuracy: 100.00%\n",
            "\n",
            "**Random Forest Results:**\n",
            "Accuracy: 100.00%\n"
          ]
        }
      ]
    },
    {
      "cell_type": "code",
      "source": [
        "# Calculate and display additional metrics\n",
        "print(\"Classification Report:\\n\", classification_report(y_test, preds))\n",
        "print(\"Confusion Matrix:\\n\", confusion_matrix(y_test, preds))"
      ],
      "metadata": {
        "colab": {
          "base_uri": "https://localhost:8080/"
        },
        "id": "7IXdYCcOEu08",
        "outputId": "ded3312c-4397-4c18-a4e3-57e0f1c35de1"
      },
      "execution_count": 13,
      "outputs": [
        {
          "output_type": "stream",
          "name": "stdout",
          "text": [
            "Classification Report:\n",
            "               precision    recall  f1-score   support\n",
            "\n",
            "           0       1.00      1.00      1.00         1\n",
            "           1       1.00      1.00      1.00         5\n",
            "\n",
            "    accuracy                           1.00         6\n",
            "   macro avg       1.00      1.00      1.00         6\n",
            "weighted avg       1.00      1.00      1.00         6\n",
            "\n",
            "Confusion Matrix:\n",
            " [[1 0]\n",
            " [0 5]]\n"
          ]
        }
      ]
    },
    {
      "cell_type": "code",
      "source": [
        "# Confusion Matrix visualization\n",
        "cf_matrix = confusion_matrix(y_test, preds)\n",
        "plt.figure(figsize=(8, 6))\n",
        "sns.heatmap(cf_matrix, annot=True, cmap='Blues', fmt='d')\n",
        "plt.title(f\"{model_name} Confusion Matrix\")\n",
        "plt.xlabel('Predicted Labels')\n",
        "plt.ylabel('True Labels')\n",
        "plt.show()"
      ],
      "metadata": {
        "colab": {
          "base_uri": "https://localhost:8080/",
          "height": 564
        },
        "id": "tFfT286RE3I5",
        "outputId": "7abf7205-e1dc-473d-b08c-673acc819542"
      },
      "execution_count": 14,
      "outputs": [
        {
          "output_type": "display_data",
          "data": {
            "text/plain": [
              "<Figure size 800x600 with 2 Axes>"
            ],
            "image/png": "[encoded data removed]"
          },
          "metadata": {}
        }
      ]
    },
    {
      "cell_type": "code",
      "source": [
        "# Plotting bar graph to compare model accuracies\n",
        "plt.figure(figsize=(10, 6))\n",
        "plt.bar(model_accuracies.keys(), model_accuracies.values(), color=['skyblue', 'salmon', 'lightgreen'])\n",
        "plt.title('Model Accuracies')\n",
        "plt.xlabel('Models')\n",
        "plt.ylabel('Accuracy (%)')\n",
        "plt.ylim(0, 100)\n",
        "plt.xticks(rotation=45)\n",
        "plt.show()"
      ],
      "metadata": {
        "colab": {
          "base_uri": "https://localhost:8080/",
          "height": 654
        },
        "id": "hryvCTQYFCn1",
        "outputId": "cb150eb9-8e13-4fe4-9055-f5a42007d066"
      },
      "execution_count": 25,
      "outputs": [
        {
          "output_type": "display_data",
          "data": {
            "text/plain": [
              "<Figure size 1000x600 with 1 Axes>"
            ],
            "image/png": "[encoded data removed]"
          },
          "metadata": {}
        }
      ]
    },
    {
      "cell_type": "code",
      "source": [
        "# Train final models on entire data\n",
        "final_models = {}\n",
        "for model_name in models.keys():\n",
        "    final_models[model_name] = models[model_name].fit(X_scaled, y)"
      ],
      "metadata": {
        "id": "6qnez-P0FIko"
      },
      "execution_count": 16,
      "outputs": []
    },
    {
      "cell_type": "code",
      "source": [
        "# Function to predict creditworthiness\n",
        "def predict_creditworthiness(features):\n",
        "    features_list = features.split(\",\")\n",
        "    input_data = np.zeros(len(data.columns[:-1]))\n",
        "    for feature in features_list:\n",
        "        if feature in data.columns[:-1]:\n",
        "            index = data.columns[:-1].get_loc(feature)\n",
        "            input_data[index] = 1\n",
        "    input_data_scaled = scaler.transform([input_data])\n",
        "\n",
        "    predictions = {}\n",
        "    for model_name, model in final_models.items():\n",
        "        prediction = model.predict(input_data_scaled)\n",
        "        predictions[model_name] = \"Creditworthy\" if prediction[0] == 1 else \"Not Creditworthy\"\n",
        "    return predictions"
      ],
      "metadata": {
        "id": "MxBDJbQ3FONe"
      },
      "execution_count": 17,
      "outputs": []
    },
    {
      "cell_type": "code",
      "source": [
        "# Function to test the credit scoring model on custom input features\n",
        "def test_model(input_features):\n",
        "    features_list = input_features.split(\",\")\n",
        "    input_data = np.zeros(len(data.columns[:-1]))\n",
        "    for feature in features_list:\n",
        "        if feature in data.columns[:-1]:\n",
        "            index = data.columns[:-1].get_loc(feature)\n",
        "            input_data[index] = 1\n",
        "    input_data_scaled = scaler.transform([input_data])\n",
        "\n",
        "    predictions = {}\n",
        "    for model_name, model in final_models.items():\n",
        "        prediction = model.predict(input_data_scaled)\n",
        "        predictions[model_name] = \"Creditworthy\" if prediction[0] == 1 else \"Not Creditworthy\"\n",
        "    return predictions\n"
      ],
      "metadata": {
        "id": "RC0GjiFHFXZb"
      },
      "execution_count": 18,
      "outputs": []
    },
    {
      "cell_type": "code",
      "source": [
        "# Example usage: testing the model on custom input features\n",
        "input_features = \"35,0,1,1,2,6,15,3,2,1,5000,1,3,2,750,1\"\n",
        "test_predictions = test_model(input_features)\n",
        "print(\"Predictions for custom input features (testing):\")\n",
        "for model_name, prediction in test_predictions.items():\n",
        "    print(f\"{model_name}: {prediction}\")\n"
      ],
      "metadata": {
        "colab": {
          "base_uri": "https://localhost:8080/"
        },
        "id": "Xb1H64sGFhMq",
        "outputId": "96f98600-8780-4627-b585-f7073fb905ce"
      },
      "execution_count": 21,
      "outputs": [
        {
          "output_type": "stream",
          "name": "stdout",
          "text": [
            "Predictions for custom input features (testing):\n",
            "Logistic Regression: Creditworthy\n",
            "KNN: Creditworthy\n",
            "Random Forest: Not Creditworthy\n"
          ]
        },
        {
          "output_type": "stream",
          "name": "stderr",
          "text": [
            "/usr/local/lib/python3.10/dist-packages/sklearn/base.py:439: UserWarning: X does not have valid feature names, but StandardScaler was fitted with feature names\n",
            "  warnings.warn(\n"
          ]
        }
      ]
    },
    {
      "cell_type": "code",
      "source": [
        "# Example usage: predicting creditworthiness based on input features\n",
        "input_features = \"35,0,1,1,2,6,15,3,2,1,5000,1,3,2,750,1\"\n",
        "creditworthiness_predictions = predict_creditworthiness(input_features)\n",
        "print(\"Predictions for custom input features (creditworthiness prediction):\")\n",
        "for model_name, prediction in creditworthiness_predictions.items():\n",
        "    print(f\"{model_name}: {prediction}\")"
      ],
      "metadata": {
        "colab": {
          "base_uri": "https://localhost:8080/"
        },
        "id": "70c7haygGOcm",
        "outputId": "3181d1cb-1be7-404a-b593-090ab7460dda"
      },
      "execution_count": 22,
      "outputs": [
        {
          "output_type": "stream",
          "name": "stdout",
          "text": [
            "Predictions for custom input features (creditworthiness prediction):\n",
            "Logistic Regression: Creditworthy\n",
            "KNN: Creditworthy\n",
            "Random Forest: Not Creditworthy\n"
          ]
        },
        {
          "output_type": "stream",
          "name": "stderr",
          "text": [
            "/usr/local/lib/python3.10/dist-packages/sklearn/base.py:439: UserWarning: X does not have valid feature names, but StandardScaler was fitted with feature names\n",
            "  warnings.warn(\n"
          ]
        }
      ]
    },
    {
      "cell_type": "code",
      "source": [
        "import matplotlib.pyplot as plt\n",
        "\n",
        "# Function to test the credit scoring model on custom input features\n",
        "def test_model(input_features):\n",
        "    features_list = input_features.split(\",\")\n",
        "    input_data = np.zeros(len(data.columns[:-1]))\n",
        "    for feature in features_list:\n",
        "        if feature in data.columns[:-1]:\n",
        "            index = data.columns[:-1].get_loc(feature)\n",
        "            input_data[index] = 1\n",
        "    input_data_scaled = scaler.transform([input_data])\n",
        "\n",
        "    predictions = {}\n",
        "    for model_name, model in final_models.items():\n",
        "        prediction = model.predict_proba(input_data_scaled)[:, 1]  # Get the probability of being creditworthy\n",
        "        predictions[model_name] = prediction[0]\n",
        "    return predictions\n",
        "\n",
        "# Example usage: testing the model on custom input features\n",
        "input_features = \"35,0,1,1,2,6,15,3,2,1,5000,1,3,2,750,1\"\n",
        "test_predictions = test_model(input_features)\n",
        "print(\"Predictions for custom input features (testing):\")\n",
        "for model_name, prediction in test_predictions.items():\n",
        "    print(f\"{model_name}: {prediction}\")\n",
        "\n",
        "# Plotting the visualization\n",
        "plt.figure(figsize=(10, 6))\n",
        "plt.bar(test_predictions.keys(), test_predictions.values(), color=['skyblue', 'salmon', 'lightgreen'])\n",
        "plt.title('Model Predictions for Creditworthiness')\n",
        "plt.xlabel('Models')\n",
        "plt.ylabel('Probability of being Creditworthy')\n",
        "plt.ylim(0, 1)\n",
        "plt.xticks(rotation=45)\n",
        "plt.show()\n"
      ],
      "metadata": {
        "colab": {
          "base_uri": "https://localhost:8080/",
          "height": 765
        },
        "id": "0NCVasCzGn8A",
        "outputId": "798553dd-2fa2-4588-fc6e-d931b9a957a5"
      },
      "execution_count": 23,
      "outputs": [
        {
          "output_type": "stream",
          "name": "stderr",
          "text": [
            "/usr/local/lib/python3.10/dist-packages/sklearn/base.py:439: UserWarning: X does not have valid feature names, but StandardScaler was fitted with feature names\n",
            "  warnings.warn(\n"
          ]
        },
        {
          "output_type": "stream",
          "name": "stdout",
          "text": [
            "Predictions for custom input features (testing):\n",
            "Logistic Regression: 0.7370239771747409\n",
            "KNN: 0.8\n",
            "Random Forest: 0.5\n"
          ]
        },
        {
          "output_type": "display_data",
          "data": {
            "text/plain": [
              "<Figure size 1000x600 with 1 Axes>"
            ],
            "image/png": "[encoded data removed]"
          },
          "metadata": {}
        }
      ]
    }
  ]
}